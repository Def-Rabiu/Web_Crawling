{
 "cells": [
  {
   "cell_type": "code",
   "execution_count": 1,
   "metadata": {},
   "outputs": [],
   "source": [
    "import requests as r\n",
    "from bs4 import BeautifulSoup \n",
    "import pandas as pd"
   ]
  },
  {
   "cell_type": "code",
   "execution_count": 2,
   "metadata": {},
   "outputs": [
    {
     "data": {
      "text/plain": [
       "<Response [200]>"
      ]
     },
     "execution_count": 2,
     "metadata": {},
     "output_type": "execute_result"
    }
   ],
   "source": [
    "url_link = 'https://www.goodfirms.co/big-data-analytics/data-analytics'\n",
    "html = r.get(url_link)\n",
    "html"
   ]
  },
  {
   "cell_type": "code",
   "execution_count": 3,
   "metadata": {},
   "outputs": [],
   "source": [
    "with open('topdafirm.html', mode='wb') as file:\n",
    "    file.write(html.content)\n"
   ]
  },
  {
   "cell_type": "code",
   "execution_count": 4,
   "metadata": {},
   "outputs": [],
   "source": [
    "with open('topdafirm.html', mode='r', encoding='utf8') as openfile:\n",
    "    bs = BeautifulSoup(openfile, 'lxml')"
   ]
  },
  {
   "cell_type": "code",
   "execution_count": 6,
   "metadata": {},
   "outputs": [],
   "source": [
    "# <span itemprop=\"name\">SPEC INDIA</span>\n",
    "\n",
    "firm_name = bs.find_all('span', {'itemprop': 'name'})"
   ]
  },
  {
   "cell_type": "code",
   "execution_count": 7,
   "metadata": {},
   "outputs": [],
   "source": [
    "# <p class=\"profile-tagline\">Enterprise Software, Mobility &amp; BI Solutions</p>\n",
    "\n",
    "firm_motor = bs.find_all('p', {'class': 'profile-tagline'})"
   ]
  },
  {
   "cell_type": "code",
   "execution_count": 8,
   "metadata": {},
   "outputs": [],
   "source": [
    "year_founded = bs.find_all('div', {'class': 'firm-founded'})\n",
    "country_located = bs.find_all('div', {'class': 'firm-location'})\n",
    "reviews = bs.find_all('span', {'class': 'listinv_review_label'})\n",
    "price = bs.find_all('div', {'class': 'firm-pricing'})\n",
    "employee = bs.find_all('div', {'class': 'firm-employees'})"
   ]
  },
  {
   "cell_type": "code",
   "execution_count": 9,
   "metadata": {},
   "outputs": [],
   "source": [
    "# <div class=\"circle-progress-value\">20%</div>\n",
    "\n",
    "service_rating = bs.find_all('div', {'class': 'circle-progress-value'})\n",
    "\n",
    "service_rating_list = []\n",
    "platform_rating_list = []\n",
    "for ratings in enumerate(service_rating):\n",
    "    if ratings[0] % 2 == 0:\n",
    "        service_rating_list.append(ratings[1].text)\n",
    "    else:\n",
    "        platform_rating_list.append(ratings[1].text)"
   ]
  },
  {
   "cell_type": "code",
   "execution_count": 10,
   "metadata": {},
   "outputs": [],
   "source": [
    "def extract_data(tag_lines):\n",
    "    the_list = [tag.text for tag in tag_lines]\n",
    "    return pd.Series(the_list)"
   ]
  },
  {
   "cell_type": "code",
   "execution_count": 11,
   "metadata": {},
   "outputs": [],
   "source": [
    "employee_new = extract_data(employee)\n",
    "price_new = extract_data(price)\n",
    "reviews_new = extract_data(reviews)\n",
    "country_located_new = extract_data(country_located)\n",
    "year_founded_new = extract_data(year_founded)\n",
    "firm_motor_new = extract_data(firm_motor)\n",
    "firm_name_new = extract_data(firm_name[3:])"
   ]
  },
  {
   "cell_type": "code",
   "execution_count": 12,
   "metadata": {},
   "outputs": [],
   "source": [
    "df = pd.DataFrame()"
   ]
  },
  {
   "cell_type": "code",
   "execution_count": 13,
   "metadata": {},
   "outputs": [],
   "source": [
    "df['firm_name'] = firm_name_new\n",
    "df['firm_motor'] = firm_motor_new\n",
    "df['employees'] = employee_new\n",
    "df['price'] = price_new\n",
    "df['reviews'] = reviews_new\n",
    "df['service-rating(%)'] = service_rating_list\n",
    "df['platform-rating(%)'] = platform_rating_list\n",
    "df['country'] = country_located_new\n",
    "df['year-founded'] = year_founded_new"
   ]
  },
  {
   "cell_type": "code",
   "execution_count": 14,
   "metadata": {},
   "outputs": [
    {
     "data": {
      "text/html": [
       "<div>\n",
       "<style scoped>\n",
       "    .dataframe tbody tr th:only-of-type {\n",
       "        vertical-align: middle;\n",
       "    }\n",
       "\n",
       "    .dataframe tbody tr th {\n",
       "        vertical-align: top;\n",
       "    }\n",
       "\n",
       "    .dataframe thead th {\n",
       "        text-align: right;\n",
       "    }\n",
       "</style>\n",
       "<table border=\"1\" class=\"dataframe\">\n",
       "  <thead>\n",
       "    <tr style=\"text-align: right;\">\n",
       "      <th></th>\n",
       "      <th>firm_name</th>\n",
       "      <th>firm_motor</th>\n",
       "      <th>employees</th>\n",
       "      <th>price</th>\n",
       "      <th>reviews</th>\n",
       "      <th>service-rating(%)</th>\n",
       "      <th>platform-rating(%)</th>\n",
       "      <th>country</th>\n",
       "      <th>year-founded</th>\n",
       "    </tr>\n",
       "  </thead>\n",
       "  <tbody>\n",
       "    <tr>\n",
       "      <th>0</th>\n",
       "      <td>SPEC INDIA</td>\n",
       "      <td>Enterprise Software, Mobility &amp; BI Solutions</td>\n",
       "      <td>250 - 999</td>\n",
       "      <td>\\n&lt; $25/hr</td>\n",
       "      <td>4.8 (26 Reviews)</td>\n",
       "      <td>20%</td>\n",
       "      <td>15%</td>\n",
       "      <td>\\nIndia, United States</td>\n",
       "      <td>1987</td>\n",
       "    </tr>\n",
       "    <tr>\n",
       "      <th>1</th>\n",
       "      <td>instinctools</td>\n",
       "      <td>Delivering the future. Now.</td>\n",
       "      <td>250 - 999</td>\n",
       "      <td>\\n$50 - $99/hr</td>\n",
       "      <td>4.8 (8 Reviews)</td>\n",
       "      <td>5%</td>\n",
       "      <td>10%</td>\n",
       "      <td>\\nUnited States, Germany</td>\n",
       "      <td>2000</td>\n",
       "    </tr>\n",
       "    <tr>\n",
       "      <th>2</th>\n",
       "      <td>SoluLab</td>\n",
       "      <td>Blockchain | IoT | Mobility | AI | Big Data</td>\n",
       "      <td>50 - 249</td>\n",
       "      <td>\\n$25 - $49/hr</td>\n",
       "      <td>5.0 (32 Reviews)</td>\n",
       "      <td>15%</td>\n",
       "      <td>15%</td>\n",
       "      <td>\\nUnited States, India</td>\n",
       "      <td>2014</td>\n",
       "    </tr>\n",
       "  </tbody>\n",
       "</table>\n",
       "</div>"
      ],
      "text/plain": [
       "      firm_name                                    firm_motor  employees  \\\n",
       "0    SPEC INDIA  Enterprise Software, Mobility & BI Solutions  250 - 999   \n",
       "1  instinctools                   Delivering the future. Now.  250 - 999   \n",
       "2       SoluLab   Blockchain | IoT | Mobility | AI | Big Data   50 - 249   \n",
       "\n",
       "             price           reviews service-rating(%) platform-rating(%)  \\\n",
       "0      \\n< $25/hr   4.8 (26 Reviews)               20%                15%   \n",
       "1  \\n$50 - $99/hr    4.8 (8 Reviews)                5%                10%   \n",
       "2  \\n$25 - $49/hr   5.0 (32 Reviews)               15%                15%   \n",
       "\n",
       "                     country year-founded  \n",
       "0    \\nIndia, United States          1987  \n",
       "1  \\nUnited States, Germany          2000  \n",
       "2    \\nUnited States, India          2014  "
      ]
     },
     "execution_count": 14,
     "metadata": {},
     "output_type": "execute_result"
    }
   ],
   "source": [
    "df.head(3)"
   ]
  }
 ],
 "metadata": {
  "kernelspec": {
   "display_name": "Python 3",
   "language": "python",
   "name": "python3"
  },
  "language_info": {
   "codemirror_mode": {
    "name": "ipython",
    "version": 3
   },
   "file_extension": ".py",
   "mimetype": "text/x-python",
   "name": "python",
   "nbconvert_exporter": "python",
   "pygments_lexer": "ipython3",
   "version": "3.10.5"
  },
  "orig_nbformat": 4,
  "vscode": {
   "interpreter": {
    "hash": "f1d3af902f1a40659209994ff7a7c264feab363e2c04363a2f80ff2c8909f476"
   }
  }
 },
 "nbformat": 4,
 "nbformat_minor": 2
}
